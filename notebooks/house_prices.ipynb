{
 "cells": [
  {
   "cell_type": "code",
   "execution_count": 1,
   "id": "f104ec6a-8cde-4285-b8b8-445057886486",
   "metadata": {},
   "outputs": [],
   "source": [
    "import pandas as pd\n",
    "from sklearn.model_selection import train_test_split\n",
    "from sklearn.linear_model import LinearRegression\n",
    "from sklearn.metrics import mean_squared_error, r2_score\n",
    "import math\n",
    "from xgboost import XGBRFRegressor\n",
    "import mlflow"
   ]
  },
  {
   "cell_type": "code",
   "execution_count": 2,
   "id": "341c0818-a8b1-47b3-9019-ec91c6b94625",
   "metadata": {},
   "outputs": [],
   "source": [
    "df = pd.read_csv('../data/processed/casas.csv')"
   ]
  },
  {
   "cell_type": "code",
   "execution_count": 3,
   "id": "b4f0974a-3f1c-46ad-90fd-eea2d1d3e8a2",
   "metadata": {},
   "outputs": [
    {
     "data": {
      "text/html": [
       "<div>\n",
       "<style scoped>\n",
       "    .dataframe tbody tr th:only-of-type {\n",
       "        vertical-align: middle;\n",
       "    }\n",
       "\n",
       "    .dataframe tbody tr th {\n",
       "        vertical-align: top;\n",
       "    }\n",
       "\n",
       "    .dataframe thead th {\n",
       "        text-align: right;\n",
       "    }\n",
       "</style>\n",
       "<table border=\"1\" class=\"dataframe\">\n",
       "  <thead>\n",
       "    <tr style=\"text-align: right;\">\n",
       "      <th></th>\n",
       "      <th>tamanho</th>\n",
       "      <th>ano</th>\n",
       "      <th>garagem</th>\n",
       "      <th>preco</th>\n",
       "    </tr>\n",
       "  </thead>\n",
       "  <tbody>\n",
       "    <tr>\n",
       "      <th>0</th>\n",
       "      <td>159.0</td>\n",
       "      <td>2003</td>\n",
       "      <td>2</td>\n",
       "      <td>208500</td>\n",
       "    </tr>\n",
       "    <tr>\n",
       "      <th>1</th>\n",
       "      <td>117.0</td>\n",
       "      <td>1976</td>\n",
       "      <td>2</td>\n",
       "      <td>181500</td>\n",
       "    </tr>\n",
       "    <tr>\n",
       "      <th>2</th>\n",
       "      <td>166.0</td>\n",
       "      <td>2001</td>\n",
       "      <td>2</td>\n",
       "      <td>223500</td>\n",
       "    </tr>\n",
       "    <tr>\n",
       "      <th>3</th>\n",
       "      <td>160.0</td>\n",
       "      <td>1915</td>\n",
       "      <td>3</td>\n",
       "      <td>140000</td>\n",
       "    </tr>\n",
       "    <tr>\n",
       "      <th>4</th>\n",
       "      <td>204.0</td>\n",
       "      <td>2000</td>\n",
       "      <td>3</td>\n",
       "      <td>250000</td>\n",
       "    </tr>\n",
       "  </tbody>\n",
       "</table>\n",
       "</div>"
      ],
      "text/plain": [
       "   tamanho   ano  garagem   preco\n",
       "0    159.0  2003        2  208500\n",
       "1    117.0  1976        2  181500\n",
       "2    166.0  2001        2  223500\n",
       "3    160.0  1915        3  140000\n",
       "4    204.0  2000        3  250000"
      ]
     },
     "execution_count": 3,
     "metadata": {},
     "output_type": "execute_result"
    }
   ],
   "source": [
    "df.head()"
   ]
  },
  {
   "cell_type": "code",
   "execution_count": 4,
   "id": "b4c2e7e2-767a-468d-adb8-9e83b5ec28a0",
   "metadata": {},
   "outputs": [],
   "source": [
    "X = df.drop('preco',axis=1)\n",
    "y = df['preco'].copy()"
   ]
  },
  {
   "cell_type": "code",
   "execution_count": 5,
   "id": "b1774991-ef53-45d3-b41c-68b7798c14f5",
   "metadata": {},
   "outputs": [],
   "source": [
    "X_train, X_test, y_train, y_test = train_test_split(X,y,test_size=0.25,random_state=42)"
   ]
  },
  {
   "cell_type": "code",
   "execution_count": 6,
   "id": "da0587b3-f5da-4f38-8561-afa495479511",
   "metadata": {},
   "outputs": [
    {
     "data": {
      "text/plain": [
       "<Experiment: artifact_location='file:///C:/Users/vitor/Documents/ambientes/mlflow_win64x/mlflow_alura/notebooks/mlruns/602980415233333545', creation_time=1741946667148, experiment_id='602980415233333545', last_update_time=1741946667148, lifecycle_stage='active', name='house-prices-eda', tags={}>"
      ]
     },
     "execution_count": 6,
     "metadata": {},
     "output_type": "execute_result"
    }
   ],
   "source": [
    "mlflow.set_experiment('house-prices-eda')"
   ]
  },
  {
   "cell_type": "markdown",
   "id": "72e14d07-a856-4130-a380-55fb482e7b43",
   "metadata": {},
   "source": [
    "## linear regression"
   ]
  },
  {
   "cell_type": "code",
   "execution_count": 7,
   "id": "75845313-2d36-407c-84c6-a73a01334b21",
   "metadata": {},
   "outputs": [
    {
     "data": {
      "text/plain": [
       "<ActiveRun: >"
      ]
     },
     "execution_count": 7,
     "metadata": {},
     "output_type": "execute_result"
    }
   ],
   "source": [
    "mlflow.start_run()"
   ]
  },
  {
   "cell_type": "code",
   "execution_count": 8,
   "id": "70e0a9c7-baf3-45a6-817c-06067d89aa1c",
   "metadata": {},
   "outputs": [
    {
     "data": {
      "text/html": [
       "<style>#sk-container-id-1 {\n",
       "  /* Definition of color scheme common for light and dark mode */\n",
       "  --sklearn-color-text: #000;\n",
       "  --sklearn-color-text-muted: #666;\n",
       "  --sklearn-color-line: gray;\n",
       "  /* Definition of color scheme for unfitted estimators */\n",
       "  --sklearn-color-unfitted-level-0: #fff5e6;\n",
       "  --sklearn-color-unfitted-level-1: #f6e4d2;\n",
       "  --sklearn-color-unfitted-level-2: #ffe0b3;\n",
       "  --sklearn-color-unfitted-level-3: chocolate;\n",
       "  /* Definition of color scheme for fitted estimators */\n",
       "  --sklearn-color-fitted-level-0: #f0f8ff;\n",
       "  --sklearn-color-fitted-level-1: #d4ebff;\n",
       "  --sklearn-color-fitted-level-2: #b3dbfd;\n",
       "  --sklearn-color-fitted-level-3: cornflowerblue;\n",
       "\n",
       "  /* Specific color for light theme */\n",
       "  --sklearn-color-text-on-default-background: var(--sg-text-color, var(--theme-code-foreground, var(--jp-content-font-color1, black)));\n",
       "  --sklearn-color-background: var(--sg-background-color, var(--theme-background, var(--jp-layout-color0, white)));\n",
       "  --sklearn-color-border-box: var(--sg-text-color, var(--theme-code-foreground, var(--jp-content-font-color1, black)));\n",
       "  --sklearn-color-icon: #696969;\n",
       "\n",
       "  @media (prefers-color-scheme: dark) {\n",
       "    /* Redefinition of color scheme for dark theme */\n",
       "    --sklearn-color-text-on-default-background: var(--sg-text-color, var(--theme-code-foreground, var(--jp-content-font-color1, white)));\n",
       "    --sklearn-color-background: var(--sg-background-color, var(--theme-background, var(--jp-layout-color0, #111)));\n",
       "    --sklearn-color-border-box: var(--sg-text-color, var(--theme-code-foreground, var(--jp-content-font-color1, white)));\n",
       "    --sklearn-color-icon: #878787;\n",
       "  }\n",
       "}\n",
       "\n",
       "#sk-container-id-1 {\n",
       "  color: var(--sklearn-color-text);\n",
       "}\n",
       "\n",
       "#sk-container-id-1 pre {\n",
       "  padding: 0;\n",
       "}\n",
       "\n",
       "#sk-container-id-1 input.sk-hidden--visually {\n",
       "  border: 0;\n",
       "  clip: rect(1px 1px 1px 1px);\n",
       "  clip: rect(1px, 1px, 1px, 1px);\n",
       "  height: 1px;\n",
       "  margin: -1px;\n",
       "  overflow: hidden;\n",
       "  padding: 0;\n",
       "  position: absolute;\n",
       "  width: 1px;\n",
       "}\n",
       "\n",
       "#sk-container-id-1 div.sk-dashed-wrapped {\n",
       "  border: 1px dashed var(--sklearn-color-line);\n",
       "  margin: 0 0.4em 0.5em 0.4em;\n",
       "  box-sizing: border-box;\n",
       "  padding-bottom: 0.4em;\n",
       "  background-color: var(--sklearn-color-background);\n",
       "}\n",
       "\n",
       "#sk-container-id-1 div.sk-container {\n",
       "  /* jupyter's `normalize.less` sets `[hidden] { display: none; }`\n",
       "     but bootstrap.min.css set `[hidden] { display: none !important; }`\n",
       "     so we also need the `!important` here to be able to override the\n",
       "     default hidden behavior on the sphinx rendered scikit-learn.org.\n",
       "     See: https://github.com/scikit-learn/scikit-learn/issues/21755 */\n",
       "  display: inline-block !important;\n",
       "  position: relative;\n",
       "}\n",
       "\n",
       "#sk-container-id-1 div.sk-text-repr-fallback {\n",
       "  display: none;\n",
       "}\n",
       "\n",
       "div.sk-parallel-item,\n",
       "div.sk-serial,\n",
       "div.sk-item {\n",
       "  /* draw centered vertical line to link estimators */\n",
       "  background-image: linear-gradient(var(--sklearn-color-text-on-default-background), var(--sklearn-color-text-on-default-background));\n",
       "  background-size: 2px 100%;\n",
       "  background-repeat: no-repeat;\n",
       "  background-position: center center;\n",
       "}\n",
       "\n",
       "/* Parallel-specific style estimator block */\n",
       "\n",
       "#sk-container-id-1 div.sk-parallel-item::after {\n",
       "  content: \"\";\n",
       "  width: 100%;\n",
       "  border-bottom: 2px solid var(--sklearn-color-text-on-default-background);\n",
       "  flex-grow: 1;\n",
       "}\n",
       "\n",
       "#sk-container-id-1 div.sk-parallel {\n",
       "  display: flex;\n",
       "  align-items: stretch;\n",
       "  justify-content: center;\n",
       "  background-color: var(--sklearn-color-background);\n",
       "  position: relative;\n",
       "}\n",
       "\n",
       "#sk-container-id-1 div.sk-parallel-item {\n",
       "  display: flex;\n",
       "  flex-direction: column;\n",
       "}\n",
       "\n",
       "#sk-container-id-1 div.sk-parallel-item:first-child::after {\n",
       "  align-self: flex-end;\n",
       "  width: 50%;\n",
       "}\n",
       "\n",
       "#sk-container-id-1 div.sk-parallel-item:last-child::after {\n",
       "  align-self: flex-start;\n",
       "  width: 50%;\n",
       "}\n",
       "\n",
       "#sk-container-id-1 div.sk-parallel-item:only-child::after {\n",
       "  width: 0;\n",
       "}\n",
       "\n",
       "/* Serial-specific style estimator block */\n",
       "\n",
       "#sk-container-id-1 div.sk-serial {\n",
       "  display: flex;\n",
       "  flex-direction: column;\n",
       "  align-items: center;\n",
       "  background-color: var(--sklearn-color-background);\n",
       "  padding-right: 1em;\n",
       "  padding-left: 1em;\n",
       "}\n",
       "\n",
       "\n",
       "/* Toggleable style: style used for estimator/Pipeline/ColumnTransformer box that is\n",
       "clickable and can be expanded/collapsed.\n",
       "- Pipeline and ColumnTransformer use this feature and define the default style\n",
       "- Estimators will overwrite some part of the style using the `sk-estimator` class\n",
       "*/\n",
       "\n",
       "/* Pipeline and ColumnTransformer style (default) */\n",
       "\n",
       "#sk-container-id-1 div.sk-toggleable {\n",
       "  /* Default theme specific background. It is overwritten whether we have a\n",
       "  specific estimator or a Pipeline/ColumnTransformer */\n",
       "  background-color: var(--sklearn-color-background);\n",
       "}\n",
       "\n",
       "/* Toggleable label */\n",
       "#sk-container-id-1 label.sk-toggleable__label {\n",
       "  cursor: pointer;\n",
       "  display: flex;\n",
       "  width: 100%;\n",
       "  margin-bottom: 0;\n",
       "  padding: 0.5em;\n",
       "  box-sizing: border-box;\n",
       "  text-align: center;\n",
       "  align-items: start;\n",
       "  justify-content: space-between;\n",
       "  gap: 0.5em;\n",
       "}\n",
       "\n",
       "#sk-container-id-1 label.sk-toggleable__label .caption {\n",
       "  font-size: 0.6rem;\n",
       "  font-weight: lighter;\n",
       "  color: var(--sklearn-color-text-muted);\n",
       "}\n",
       "\n",
       "#sk-container-id-1 label.sk-toggleable__label-arrow:before {\n",
       "  /* Arrow on the left of the label */\n",
       "  content: \"▸\";\n",
       "  float: left;\n",
       "  margin-right: 0.25em;\n",
       "  color: var(--sklearn-color-icon);\n",
       "}\n",
       "\n",
       "#sk-container-id-1 label.sk-toggleable__label-arrow:hover:before {\n",
       "  color: var(--sklearn-color-text);\n",
       "}\n",
       "\n",
       "/* Toggleable content - dropdown */\n",
       "\n",
       "#sk-container-id-1 div.sk-toggleable__content {\n",
       "  max-height: 0;\n",
       "  max-width: 0;\n",
       "  overflow: hidden;\n",
       "  text-align: left;\n",
       "  /* unfitted */\n",
       "  background-color: var(--sklearn-color-unfitted-level-0);\n",
       "}\n",
       "\n",
       "#sk-container-id-1 div.sk-toggleable__content.fitted {\n",
       "  /* fitted */\n",
       "  background-color: var(--sklearn-color-fitted-level-0);\n",
       "}\n",
       "\n",
       "#sk-container-id-1 div.sk-toggleable__content pre {\n",
       "  margin: 0.2em;\n",
       "  border-radius: 0.25em;\n",
       "  color: var(--sklearn-color-text);\n",
       "  /* unfitted */\n",
       "  background-color: var(--sklearn-color-unfitted-level-0);\n",
       "}\n",
       "\n",
       "#sk-container-id-1 div.sk-toggleable__content.fitted pre {\n",
       "  /* unfitted */\n",
       "  background-color: var(--sklearn-color-fitted-level-0);\n",
       "}\n",
       "\n",
       "#sk-container-id-1 input.sk-toggleable__control:checked~div.sk-toggleable__content {\n",
       "  /* Expand drop-down */\n",
       "  max-height: 200px;\n",
       "  max-width: 100%;\n",
       "  overflow: auto;\n",
       "}\n",
       "\n",
       "#sk-container-id-1 input.sk-toggleable__control:checked~label.sk-toggleable__label-arrow:before {\n",
       "  content: \"▾\";\n",
       "}\n",
       "\n",
       "/* Pipeline/ColumnTransformer-specific style */\n",
       "\n",
       "#sk-container-id-1 div.sk-label input.sk-toggleable__control:checked~label.sk-toggleable__label {\n",
       "  color: var(--sklearn-color-text);\n",
       "  background-color: var(--sklearn-color-unfitted-level-2);\n",
       "}\n",
       "\n",
       "#sk-container-id-1 div.sk-label.fitted input.sk-toggleable__control:checked~label.sk-toggleable__label {\n",
       "  background-color: var(--sklearn-color-fitted-level-2);\n",
       "}\n",
       "\n",
       "/* Estimator-specific style */\n",
       "\n",
       "/* Colorize estimator box */\n",
       "#sk-container-id-1 div.sk-estimator input.sk-toggleable__control:checked~label.sk-toggleable__label {\n",
       "  /* unfitted */\n",
       "  background-color: var(--sklearn-color-unfitted-level-2);\n",
       "}\n",
       "\n",
       "#sk-container-id-1 div.sk-estimator.fitted input.sk-toggleable__control:checked~label.sk-toggleable__label {\n",
       "  /* fitted */\n",
       "  background-color: var(--sklearn-color-fitted-level-2);\n",
       "}\n",
       "\n",
       "#sk-container-id-1 div.sk-label label.sk-toggleable__label,\n",
       "#sk-container-id-1 div.sk-label label {\n",
       "  /* The background is the default theme color */\n",
       "  color: var(--sklearn-color-text-on-default-background);\n",
       "}\n",
       "\n",
       "/* On hover, darken the color of the background */\n",
       "#sk-container-id-1 div.sk-label:hover label.sk-toggleable__label {\n",
       "  color: var(--sklearn-color-text);\n",
       "  background-color: var(--sklearn-color-unfitted-level-2);\n",
       "}\n",
       "\n",
       "/* Label box, darken color on hover, fitted */\n",
       "#sk-container-id-1 div.sk-label.fitted:hover label.sk-toggleable__label.fitted {\n",
       "  color: var(--sklearn-color-text);\n",
       "  background-color: var(--sklearn-color-fitted-level-2);\n",
       "}\n",
       "\n",
       "/* Estimator label */\n",
       "\n",
       "#sk-container-id-1 div.sk-label label {\n",
       "  font-family: monospace;\n",
       "  font-weight: bold;\n",
       "  display: inline-block;\n",
       "  line-height: 1.2em;\n",
       "}\n",
       "\n",
       "#sk-container-id-1 div.sk-label-container {\n",
       "  text-align: center;\n",
       "}\n",
       "\n",
       "/* Estimator-specific */\n",
       "#sk-container-id-1 div.sk-estimator {\n",
       "  font-family: monospace;\n",
       "  border: 1px dotted var(--sklearn-color-border-box);\n",
       "  border-radius: 0.25em;\n",
       "  box-sizing: border-box;\n",
       "  margin-bottom: 0.5em;\n",
       "  /* unfitted */\n",
       "  background-color: var(--sklearn-color-unfitted-level-0);\n",
       "}\n",
       "\n",
       "#sk-container-id-1 div.sk-estimator.fitted {\n",
       "  /* fitted */\n",
       "  background-color: var(--sklearn-color-fitted-level-0);\n",
       "}\n",
       "\n",
       "/* on hover */\n",
       "#sk-container-id-1 div.sk-estimator:hover {\n",
       "  /* unfitted */\n",
       "  background-color: var(--sklearn-color-unfitted-level-2);\n",
       "}\n",
       "\n",
       "#sk-container-id-1 div.sk-estimator.fitted:hover {\n",
       "  /* fitted */\n",
       "  background-color: var(--sklearn-color-fitted-level-2);\n",
       "}\n",
       "\n",
       "/* Specification for estimator info (e.g. \"i\" and \"?\") */\n",
       "\n",
       "/* Common style for \"i\" and \"?\" */\n",
       "\n",
       ".sk-estimator-doc-link,\n",
       "a:link.sk-estimator-doc-link,\n",
       "a:visited.sk-estimator-doc-link {\n",
       "  float: right;\n",
       "  font-size: smaller;\n",
       "  line-height: 1em;\n",
       "  font-family: monospace;\n",
       "  background-color: var(--sklearn-color-background);\n",
       "  border-radius: 1em;\n",
       "  height: 1em;\n",
       "  width: 1em;\n",
       "  text-decoration: none !important;\n",
       "  margin-left: 0.5em;\n",
       "  text-align: center;\n",
       "  /* unfitted */\n",
       "  border: var(--sklearn-color-unfitted-level-1) 1pt solid;\n",
       "  color: var(--sklearn-color-unfitted-level-1);\n",
       "}\n",
       "\n",
       ".sk-estimator-doc-link.fitted,\n",
       "a:link.sk-estimator-doc-link.fitted,\n",
       "a:visited.sk-estimator-doc-link.fitted {\n",
       "  /* fitted */\n",
       "  border: var(--sklearn-color-fitted-level-1) 1pt solid;\n",
       "  color: var(--sklearn-color-fitted-level-1);\n",
       "}\n",
       "\n",
       "/* On hover */\n",
       "div.sk-estimator:hover .sk-estimator-doc-link:hover,\n",
       ".sk-estimator-doc-link:hover,\n",
       "div.sk-label-container:hover .sk-estimator-doc-link:hover,\n",
       ".sk-estimator-doc-link:hover {\n",
       "  /* unfitted */\n",
       "  background-color: var(--sklearn-color-unfitted-level-3);\n",
       "  color: var(--sklearn-color-background);\n",
       "  text-decoration: none;\n",
       "}\n",
       "\n",
       "div.sk-estimator.fitted:hover .sk-estimator-doc-link.fitted:hover,\n",
       ".sk-estimator-doc-link.fitted:hover,\n",
       "div.sk-label-container:hover .sk-estimator-doc-link.fitted:hover,\n",
       ".sk-estimator-doc-link.fitted:hover {\n",
       "  /* fitted */\n",
       "  background-color: var(--sklearn-color-fitted-level-3);\n",
       "  color: var(--sklearn-color-background);\n",
       "  text-decoration: none;\n",
       "}\n",
       "\n",
       "/* Span, style for the box shown on hovering the info icon */\n",
       ".sk-estimator-doc-link span {\n",
       "  display: none;\n",
       "  z-index: 9999;\n",
       "  position: relative;\n",
       "  font-weight: normal;\n",
       "  right: .2ex;\n",
       "  padding: .5ex;\n",
       "  margin: .5ex;\n",
       "  width: min-content;\n",
       "  min-width: 20ex;\n",
       "  max-width: 50ex;\n",
       "  color: var(--sklearn-color-text);\n",
       "  box-shadow: 2pt 2pt 4pt #999;\n",
       "  /* unfitted */\n",
       "  background: var(--sklearn-color-unfitted-level-0);\n",
       "  border: .5pt solid var(--sklearn-color-unfitted-level-3);\n",
       "}\n",
       "\n",
       ".sk-estimator-doc-link.fitted span {\n",
       "  /* fitted */\n",
       "  background: var(--sklearn-color-fitted-level-0);\n",
       "  border: var(--sklearn-color-fitted-level-3);\n",
       "}\n",
       "\n",
       ".sk-estimator-doc-link:hover span {\n",
       "  display: block;\n",
       "}\n",
       "\n",
       "/* \"?\"-specific style due to the `<a>` HTML tag */\n",
       "\n",
       "#sk-container-id-1 a.estimator_doc_link {\n",
       "  float: right;\n",
       "  font-size: 1rem;\n",
       "  line-height: 1em;\n",
       "  font-family: monospace;\n",
       "  background-color: var(--sklearn-color-background);\n",
       "  border-radius: 1rem;\n",
       "  height: 1rem;\n",
       "  width: 1rem;\n",
       "  text-decoration: none;\n",
       "  /* unfitted */\n",
       "  color: var(--sklearn-color-unfitted-level-1);\n",
       "  border: var(--sklearn-color-unfitted-level-1) 1pt solid;\n",
       "}\n",
       "\n",
       "#sk-container-id-1 a.estimator_doc_link.fitted {\n",
       "  /* fitted */\n",
       "  border: var(--sklearn-color-fitted-level-1) 1pt solid;\n",
       "  color: var(--sklearn-color-fitted-level-1);\n",
       "}\n",
       "\n",
       "/* On hover */\n",
       "#sk-container-id-1 a.estimator_doc_link:hover {\n",
       "  /* unfitted */\n",
       "  background-color: var(--sklearn-color-unfitted-level-3);\n",
       "  color: var(--sklearn-color-background);\n",
       "  text-decoration: none;\n",
       "}\n",
       "\n",
       "#sk-container-id-1 a.estimator_doc_link.fitted:hover {\n",
       "  /* fitted */\n",
       "  background-color: var(--sklearn-color-fitted-level-3);\n",
       "}\n",
       "</style><div id=\"sk-container-id-1\" class=\"sk-top-container\"><div class=\"sk-text-repr-fallback\"><pre>LinearRegression()</pre><b>In a Jupyter environment, please rerun this cell to show the HTML representation or trust the notebook. <br />On GitHub, the HTML representation is unable to render, please try loading this page with nbviewer.org.</b></div><div class=\"sk-container\" hidden><div class=\"sk-item\"><div class=\"sk-estimator fitted sk-toggleable\"><input class=\"sk-toggleable__control sk-hidden--visually\" id=\"sk-estimator-id-1\" type=\"checkbox\" checked><label for=\"sk-estimator-id-1\" class=\"sk-toggleable__label fitted sk-toggleable__label-arrow\"><div><div>LinearRegression</div></div><div><a class=\"sk-estimator-doc-link fitted\" rel=\"noreferrer\" target=\"_blank\" href=\"https://scikit-learn.org/1.6/modules/generated/sklearn.linear_model.LinearRegression.html\">?<span>Documentation for LinearRegression</span></a><span class=\"sk-estimator-doc-link fitted\">i<span>Fitted</span></span></div></label><div class=\"sk-toggleable__content fitted\"><pre>LinearRegression()</pre></div> </div></div></div></div>"
      ],
      "text/plain": [
       "LinearRegression()"
      ]
     },
     "execution_count": 8,
     "metadata": {},
     "output_type": "execute_result"
    }
   ],
   "source": [
    "lr = LinearRegression()\n",
    "lr.fit(X_train,y_train)"
   ]
  },
  {
   "cell_type": "code",
   "execution_count": 9,
   "id": "ca9a51e2-4de1-47c6-8a9d-d50e8545a48c",
   "metadata": {},
   "outputs": [
    {
     "name": "stderr",
     "output_type": "stream",
     "text": [
      "2025/03/15 11:54:41 WARNING mlflow.models.model: Model logged without a signature and input example. Please set `input_example` parameter when logging the model to auto infer the model signature.\n"
     ]
    },
    {
     "data": {
      "text/plain": [
       "<mlflow.models.model.ModelInfo at 0x2192befd1f0>"
      ]
     },
     "execution_count": 9,
     "metadata": {},
     "output_type": "execute_result"
    }
   ],
   "source": [
    "mlflow.sklearn.log_model(lr,'lr')"
   ]
  },
  {
   "cell_type": "code",
   "execution_count": 10,
   "id": "ff504959-f84e-4290-8c48-892870c5b252",
   "metadata": {},
   "outputs": [],
   "source": [
    "y_predicted = lr.predict(X_test)"
   ]
  },
  {
   "cell_type": "code",
   "execution_count": 11,
   "id": "8847763f-dd71-4246-b445-82520cef9099",
   "metadata": {},
   "outputs": [
    {
     "data": {
      "text/plain": [
       "tamanho      99.0\n",
       "ano        1963.0\n",
       "garagem       1.0\n",
       "Name: 892, dtype: float64"
      ]
     },
     "execution_count": 11,
     "metadata": {},
     "output_type": "execute_result"
    }
   ],
   "source": [
    "X_test.iloc[0]"
   ]
  },
  {
   "cell_type": "code",
   "execution_count": 12,
   "id": "0d0e646c-b670-4f2d-a494-71cdd06506b8",
   "metadata": {},
   "outputs": [
    {
     "data": {
      "text/plain": [
       "np.int64(154500)"
      ]
     },
     "execution_count": 12,
     "metadata": {},
     "output_type": "execute_result"
    }
   ],
   "source": [
    "y_test.iloc[0]"
   ]
  },
  {
   "cell_type": "code",
   "execution_count": 13,
   "id": "d6948352-3303-473e-9ed6-e88530ed4324",
   "metadata": {},
   "outputs": [],
   "source": [
    "mse = mean_squared_error(y_test,y_predicted)\n",
    "rmse = math.sqrt(mse)\n",
    "r2 = r2_score(y_test,y_predicted)\n",
    "mlflow.log_metric('mse',mse)\n",
    "mlflow.log_metric('rmse',rmse)\n",
    "mlflow.log_metric('r2',r2)"
   ]
  },
  {
   "cell_type": "code",
   "execution_count": 14,
   "id": "f4056d6c-d51d-4c26-83ad-8dc44be0a3af",
   "metadata": {},
   "outputs": [
    {
     "data": {
      "text/plain": [
       "2146554580.6444082"
      ]
     },
     "execution_count": 14,
     "metadata": {},
     "output_type": "execute_result"
    }
   ],
   "source": [
    "mse"
   ]
  },
  {
   "cell_type": "code",
   "execution_count": 15,
   "id": "6530a737-f586-4173-b25a-c0306508d82f",
   "metadata": {},
   "outputs": [
    {
     "data": {
      "text/plain": [
       "46330.92466856676"
      ]
     },
     "execution_count": 15,
     "metadata": {},
     "output_type": "execute_result"
    }
   ],
   "source": [
    "rmse"
   ]
  },
  {
   "cell_type": "code",
   "execution_count": 16,
   "id": "32fee899-623b-4fc4-b2a7-b510c836706a",
   "metadata": {},
   "outputs": [
    {
     "data": {
      "text/plain": [
       "(365, 365)"
      ]
     },
     "execution_count": 16,
     "metadata": {},
     "output_type": "execute_result"
    }
   ],
   "source": [
    "len(y_predicted), len(y_test)"
   ]
  },
  {
   "cell_type": "code",
   "execution_count": 17,
   "id": "e3ade31e-4f13-4759-b02f-131932d0a16e",
   "metadata": {},
   "outputs": [
    {
     "data": {
      "text/plain": [
       "0.6935817442732812"
      ]
     },
     "execution_count": 17,
     "metadata": {},
     "output_type": "execute_result"
    }
   ],
   "source": [
    "r2"
   ]
  },
  {
   "cell_type": "code",
   "execution_count": 18,
   "id": "19d8caff-44ed-4bec-99e8-50a7ba78b19c",
   "metadata": {},
   "outputs": [],
   "source": [
    "mlflow.end_run()"
   ]
  },
  {
   "cell_type": "markdown",
   "id": "acf408f6-e846-4292-b07c-93298b39a9f3",
   "metadata": {},
   "source": [
    "## XGBoost"
   ]
  },
  {
   "cell_type": "code",
   "execution_count": 19,
   "id": "c9badd84-8c72-4cc4-ac70-2f24c2339d4e",
   "metadata": {},
   "outputs": [
    {
     "name": "stderr",
     "output_type": "stream",
     "text": [
      "C:\\Users\\vitor\\Documents\\ambientes\\mlflow_win64x\\mlflow_venv\\Lib\\site-packages\\xgboost\\core.py:158: UserWarning: [11:54:41] WARNING: C:\\buildkite-agent\\builds\\buildkite-windows-cpu-autoscaling-group-i-08cbc0333d8d4aae1-1\\xgboost\\xgboost-ci-windows\\src\\c_api\\c_api.cc:1374: Saving model in the UBJSON format as default.  You can use file extension: `json`, `ubj` or `deprecated` to choose between formats.\n",
      "  warnings.warn(smsg, UserWarning)\n",
      "2025/03/15 11:54:56 WARNING mlflow.models.model: Model logged without a signature and input example. Please set `input_example` parameter when logging the model to auto infer the model signature.\n"
     ]
    }
   ],
   "source": [
    "xgb_params={\n",
    "    'learning_rate':0.2,\n",
    "    'n_estimators':50,\n",
    "    'random_state':42\n",
    "}\n",
    "\n",
    "with mlflow.start_run():\n",
    "    xgb = XGBRFRegressor(**xgb_params)\n",
    "    xgb.fit(X_train,y_train)\n",
    "    mlflow.xgboost.log_model(xgb,'xgboost')\n",
    "    xgb_predited = xgb.predict(X_test)\n",
    "\n",
    "    mse = mean_squared_error(y_test,xgb_predited)\n",
    "    rmse = math.sqrt(mse)\n",
    "    r2 = r2_score(y_test,xgb_predited)\n",
    "    mlflow.log_metric('mse',mse)\n",
    "    mlflow.log_metric('rmse',rmse)\n",
    "    mlflow.log_metric('r2',r2)"
   ]
  },
  {
   "cell_type": "markdown",
   "id": "f7c76e05-cf4b-4122-95ef-6191ee5d7285",
   "metadata": {},
   "source": [
    "MSE quanto menor melhor. Quer dizer que modelo está errando menos. É melhor"
   ]
  },
  {
   "cell_type": "code",
   "execution_count": 20,
   "id": "0bd2a1b6-7893-4df3-81f4-261320b80e10",
   "metadata": {},
   "outputs": [
    {
     "data": {
      "text/plain": [
       "(5056111616.0, 71106.3401955128, 0.278245747089386)"
      ]
     },
     "execution_count": 20,
     "metadata": {},
     "output_type": "execute_result"
    }
   ],
   "source": [
    "mse, rmse, r2"
   ]
  },
  {
   "cell_type": "code",
   "execution_count": 21,
   "id": "14ee0c4e-4f48-4fa9-a36f-07de56150390",
   "metadata": {},
   "outputs": [
    {
     "data": {
      "text/plain": [
       "<Experiment: artifact_location='file:///C:/Users/vitor/Documents/ambientes/mlflow_win64x/mlflow_alura/notebooks/mlruns/602980415233333545', creation_time=1741946667148, experiment_id='602980415233333545', last_update_time=1741946667148, lifecycle_stage='active', name='house-prices-eda', tags={}>"
      ]
     },
     "execution_count": 21,
     "metadata": {},
     "output_type": "execute_result"
    }
   ],
   "source": [
    "mlflow.get_experiment_by_name('house-prices-eda')"
   ]
  },
  {
   "cell_type": "code",
   "execution_count": 33,
   "id": "a1976667-6c2c-495c-9272-2307ab8a80d2",
   "metadata": {},
   "outputs": [
    {
     "data": {
      "text/html": [
       "<div>\n",
       "<style scoped>\n",
       "    .dataframe tbody tr th:only-of-type {\n",
       "        vertical-align: middle;\n",
       "    }\n",
       "\n",
       "    .dataframe tbody tr th {\n",
       "        vertical-align: top;\n",
       "    }\n",
       "\n",
       "    .dataframe thead th {\n",
       "        text-align: right;\n",
       "    }\n",
       "</style>\n",
       "<table border=\"1\" class=\"dataframe\">\n",
       "  <thead>\n",
       "    <tr style=\"text-align: right;\">\n",
       "      <th></th>\n",
       "      <th>run_id</th>\n",
       "      <th>experiment_id</th>\n",
       "      <th>status</th>\n",
       "      <th>artifact_uri</th>\n",
       "      <th>start_time</th>\n",
       "      <th>end_time</th>\n",
       "      <th>metrics.r2</th>\n",
       "      <th>metrics.rmse</th>\n",
       "      <th>metrics.mse</th>\n",
       "      <th>tags.mlflow.runName</th>\n",
       "      <th>tags.mlflow.log-model.history</th>\n",
       "      <th>tags.mlflow.user</th>\n",
       "      <th>tags.mlflow.source.name</th>\n",
       "      <th>tags.mlflow.source.type</th>\n",
       "    </tr>\n",
       "  </thead>\n",
       "  <tbody>\n",
       "    <tr>\n",
       "      <th>0</th>\n",
       "      <td>097b123faf32408588de27cfb241c5a9</td>\n",
       "      <td>602980415233333545</td>\n",
       "      <td>FINISHED</td>\n",
       "      <td>file:///C:/Users/vitor/Documents/ambientes/mlf...</td>\n",
       "      <td>2025-03-15 14:54:41.621000+00:00</td>\n",
       "      <td>2025-03-15 14:54:56.810000+00:00</td>\n",
       "      <td>0.278246</td>\n",
       "      <td>71106.340196</td>\n",
       "      <td>5.056112e+09</td>\n",
       "      <td>crawling-bear-123</td>\n",
       "      <td>[{\"run_id\": \"097b123faf32408588de27cfb241c5a9\"...</td>\n",
       "      <td>vitor</td>\n",
       "      <td>C:\\Users\\vitor\\Documents\\ambientes\\mlflow_win6...</td>\n",
       "      <td>LOCAL</td>\n",
       "    </tr>\n",
       "    <tr>\n",
       "      <th>1</th>\n",
       "      <td>195466eef5c14380b7d016bee3636b72</td>\n",
       "      <td>602980415233333545</td>\n",
       "      <td>FINISHED</td>\n",
       "      <td>file:///C:/Users/vitor/Documents/ambientes/mlf...</td>\n",
       "      <td>2025-03-15 14:53:53.203000+00:00</td>\n",
       "      <td>2025-03-15 14:54:41.554000+00:00</td>\n",
       "      <td>0.693582</td>\n",
       "      <td>46330.924669</td>\n",
       "      <td>2.146555e+09</td>\n",
       "      <td>awesome-lark-483</td>\n",
       "      <td>[{\"run_id\": \"195466eef5c14380b7d016bee3636b72\"...</td>\n",
       "      <td>vitor</td>\n",
       "      <td>C:\\Users\\vitor\\Documents\\ambientes\\mlflow_win6...</td>\n",
       "      <td>LOCAL</td>\n",
       "    </tr>\n",
       "    <tr>\n",
       "      <th>2</th>\n",
       "      <td>aa1c28f1cb8c4cceb0b2c1c891f7bdaa</td>\n",
       "      <td>602980415233333545</td>\n",
       "      <td>FINISHED</td>\n",
       "      <td>file:///C:/Users/vitor/Documents/ambientes/mlf...</td>\n",
       "      <td>2025-03-14 10:16:04.733000+00:00</td>\n",
       "      <td>2025-03-14 10:16:12.081000+00:00</td>\n",
       "      <td>0.278246</td>\n",
       "      <td>71106.340196</td>\n",
       "      <td>5.056112e+09</td>\n",
       "      <td>traveling-elk-124</td>\n",
       "      <td>[{\"run_id\": \"aa1c28f1cb8c4cceb0b2c1c891f7bdaa\"...</td>\n",
       "      <td>vitor</td>\n",
       "      <td>C:\\Users\\vitor\\Documents\\ambientes\\mlflow_win6...</td>\n",
       "      <td>LOCAL</td>\n",
       "    </tr>\n",
       "    <tr>\n",
       "      <th>3</th>\n",
       "      <td>d56d335cdb95453599f9459e67eaaf5b</td>\n",
       "      <td>602980415233333545</td>\n",
       "      <td>FINISHED</td>\n",
       "      <td>file:///C:/Users/vitor/Documents/ambientes/mlf...</td>\n",
       "      <td>2025-03-14 10:15:48.556000+00:00</td>\n",
       "      <td>2025-03-14 10:16:04.706000+00:00</td>\n",
       "      <td>0.693582</td>\n",
       "      <td>46330.924669</td>\n",
       "      <td>2.146555e+09</td>\n",
       "      <td>luminous-auk-264</td>\n",
       "      <td>[{\"run_id\": \"d56d335cdb95453599f9459e67eaaf5b\"...</td>\n",
       "      <td>vitor</td>\n",
       "      <td>C:\\Users\\vitor\\Documents\\ambientes\\mlflow_win6...</td>\n",
       "      <td>LOCAL</td>\n",
       "    </tr>\n",
       "  </tbody>\n",
       "</table>\n",
       "</div>"
      ],
      "text/plain": [
       "                             run_id       experiment_id    status  \\\n",
       "0  097b123faf32408588de27cfb241c5a9  602980415233333545  FINISHED   \n",
       "1  195466eef5c14380b7d016bee3636b72  602980415233333545  FINISHED   \n",
       "2  aa1c28f1cb8c4cceb0b2c1c891f7bdaa  602980415233333545  FINISHED   \n",
       "3  d56d335cdb95453599f9459e67eaaf5b  602980415233333545  FINISHED   \n",
       "\n",
       "                                        artifact_uri  \\\n",
       "0  file:///C:/Users/vitor/Documents/ambientes/mlf...   \n",
       "1  file:///C:/Users/vitor/Documents/ambientes/mlf...   \n",
       "2  file:///C:/Users/vitor/Documents/ambientes/mlf...   \n",
       "3  file:///C:/Users/vitor/Documents/ambientes/mlf...   \n",
       "\n",
       "                        start_time                         end_time  \\\n",
       "0 2025-03-15 14:54:41.621000+00:00 2025-03-15 14:54:56.810000+00:00   \n",
       "1 2025-03-15 14:53:53.203000+00:00 2025-03-15 14:54:41.554000+00:00   \n",
       "2 2025-03-14 10:16:04.733000+00:00 2025-03-14 10:16:12.081000+00:00   \n",
       "3 2025-03-14 10:15:48.556000+00:00 2025-03-14 10:16:04.706000+00:00   \n",
       "\n",
       "   metrics.r2  metrics.rmse   metrics.mse tags.mlflow.runName  \\\n",
       "0    0.278246  71106.340196  5.056112e+09   crawling-bear-123   \n",
       "1    0.693582  46330.924669  2.146555e+09    awesome-lark-483   \n",
       "2    0.278246  71106.340196  5.056112e+09   traveling-elk-124   \n",
       "3    0.693582  46330.924669  2.146555e+09    luminous-auk-264   \n",
       "\n",
       "                       tags.mlflow.log-model.history tags.mlflow.user  \\\n",
       "0  [{\"run_id\": \"097b123faf32408588de27cfb241c5a9\"...            vitor   \n",
       "1  [{\"run_id\": \"195466eef5c14380b7d016bee3636b72\"...            vitor   \n",
       "2  [{\"run_id\": \"aa1c28f1cb8c4cceb0b2c1c891f7bdaa\"...            vitor   \n",
       "3  [{\"run_id\": \"d56d335cdb95453599f9459e67eaaf5b\"...            vitor   \n",
       "\n",
       "                             tags.mlflow.source.name tags.mlflow.source.type  \n",
       "0  C:\\Users\\vitor\\Documents\\ambientes\\mlflow_win6...                   LOCAL  \n",
       "1  C:\\Users\\vitor\\Documents\\ambientes\\mlflow_win6...                   LOCAL  \n",
       "2  C:\\Users\\vitor\\Documents\\ambientes\\mlflow_win6...                   LOCAL  \n",
       "3  C:\\Users\\vitor\\Documents\\ambientes\\mlflow_win6...                   LOCAL  "
      ]
     },
     "execution_count": 33,
     "metadata": {},
     "output_type": "execute_result"
    }
   ],
   "source": [
    "mlflow.search_runs()"
   ]
  },
  {
   "cell_type": "code",
   "execution_count": 32,
   "id": "9ead0e85-354a-4068-8bc9-0d6117e4c511",
   "metadata": {},
   "outputs": [
    {
     "data": {
      "text/plain": [
       "<Run: data=<RunData: metrics={'mse': 5056111616.0, 'r2': 0.278245747089386, 'rmse': 71106.3401955128}, params={}, tags={'mlflow.log-model.history': '[{\"run_id\": \"097b123faf32408588de27cfb241c5a9\", '\n",
       "                             '\"artifact_path\": \"xgboost\", \"utc_time_created\": '\n",
       "                             '\"2025-03-15 14:54:41.965566\", \"model_uuid\": '\n",
       "                             '\"0e0584e3a918427782287b3b2f577690\", \"flavors\": '\n",
       "                             '{\"python_function\": {\"loader_module\": '\n",
       "                             '\"mlflow.xgboost\", \"python_version\": \"3.12.9\", '\n",
       "                             '\"data\": \"model.xgb\", \"env\": {\"conda\": '\n",
       "                             '\"conda.yaml\", \"virtualenv\": \"python_env.yaml\"}}, '\n",
       "                             '\"xgboost\": {\"xgb_version\": \"2.1.4\", \"data\": '\n",
       "                             '\"model.xgb\", \"model_class\": '\n",
       "                             '\"xgboost.sklearn.XGBRFRegressor\", '\n",
       "                             '\"model_format\": \"xgb\", \"code\": null}}}]',\n",
       " 'mlflow.runName': 'crawling-bear-123',\n",
       " 'mlflow.source.name': 'C:\\\\Users\\\\vitor\\\\Documents\\\\ambientes\\\\mlflow_win64x\\\\mlflow_venv\\\\Lib\\\\site-packages\\\\ipykernel_launcher.py',\n",
       " 'mlflow.source.type': 'LOCAL',\n",
       " 'mlflow.user': 'vitor'}>, info=<RunInfo: artifact_uri='file:///C:/Users/vitor/Documents/ambientes/mlflow_win64x/mlflow_alura/notebooks/mlruns/602980415233333545/097b123faf32408588de27cfb241c5a9/artifacts', end_time=1742050496810, experiment_id='602980415233333545', lifecycle_stage='active', run_id='097b123faf32408588de27cfb241c5a9', run_name='crawling-bear-123', run_uuid='097b123faf32408588de27cfb241c5a9', start_time=1742050481621, status='FINISHED', user_id='vitor'>, inputs=<RunInputs: dataset_inputs=[]>>"
      ]
     },
     "execution_count": 32,
     "metadata": {},
     "output_type": "execute_result"
    }
   ],
   "source": [
    "mlflow.get_run('097b123faf32408588de27cfb241c5a9')"
   ]
  },
  {
   "cell_type": "code",
   "execution_count": 25,
   "id": "84baf0ab-6970-4296-bad8-999df6f076ad",
   "metadata": {},
   "outputs": [
    {
     "data": {
      "text/plain": [
       "['ActiveRun',\n",
       " 'Image',\n",
       " 'LazyLoader',\n",
       " 'MLFLOW_CONFIGURE_LOGGING',\n",
       " 'MlflowClient',\n",
       " 'MlflowException',\n",
       " 'RunOperations',\n",
       " 'VERSION',\n",
       " '__all__',\n",
       " '__builtins__',\n",
       " '__cached__',\n",
       " '__doc__',\n",
       " '__file__',\n",
       " '__loader__',\n",
       " '__name__',\n",
       " '__package__',\n",
       " '__path__',\n",
       " '__spec__',\n",
       " '__version__',\n",
       " '_configure_mlflow_loggers',\n",
       " 'active_run',\n",
       " 'add_trace',\n",
       " 'anthropic',\n",
       " 'artifacts',\n",
       " 'autogen',\n",
       " 'autolog',\n",
       " 'azure',\n",
       " 'bedrock',\n",
       " 'catboost',\n",
       " 'client',\n",
       " 'config',\n",
       " 'contextlib',\n",
       " 'create_experiment',\n",
       " 'crewai',\n",
       " 'data',\n",
       " 'delete_expectation',\n",
       " 'delete_experiment',\n",
       " 'delete_feedback',\n",
       " 'delete_run',\n",
       " 'delete_tag',\n",
       " 'disable_system_metrics_logging',\n",
       " 'diviner',\n",
       " 'doctor',\n",
       " 'dspy',\n",
       " 'enable_system_metrics_logging',\n",
       " 'end_run',\n",
       " 'entities',\n",
       " 'environment_variables',\n",
       " 'evaluate',\n",
       " 'exceptions',\n",
       " 'fastai',\n",
       " 'flush_artifact_async_logging',\n",
       " 'flush_async_logging',\n",
       " 'flush_trace_async_logging',\n",
       " 'gateway',\n",
       " 'gemini',\n",
       " 'get_artifact_uri',\n",
       " 'get_current_active_span',\n",
       " 'get_experiment',\n",
       " 'get_experiment_by_name',\n",
       " 'get_last_active_trace',\n",
       " 'get_parent_run',\n",
       " 'get_registry_uri',\n",
       " 'get_run',\n",
       " 'get_trace',\n",
       " 'get_tracking_uri',\n",
       " 'groq',\n",
       " 'h2o',\n",
       " 'is_tracking_uri_set',\n",
       " 'johnsnowlabs',\n",
       " 'keras',\n",
       " 'langchain',\n",
       " 'last_active_run',\n",
       " 'legacy_databricks_cli',\n",
       " 'lightgbm',\n",
       " 'litellm',\n",
       " 'llama_index',\n",
       " 'llm',\n",
       " 'load_table',\n",
       " 'log_artifact',\n",
       " 'log_artifacts',\n",
       " 'log_dict',\n",
       " 'log_expectation',\n",
       " 'log_feedback',\n",
       " 'log_figure',\n",
       " 'log_image',\n",
       " 'log_input',\n",
       " 'log_metric',\n",
       " 'log_metrics',\n",
       " 'log_param',\n",
       " 'log_params',\n",
       " 'log_table',\n",
       " 'log_text',\n",
       " 'login',\n",
       " 'metrics',\n",
       " 'mistral',\n",
       " 'ml_package_versions',\n",
       " 'mleap',\n",
       " 'mlflow.pyfunc',\n",
       " 'mlflow.sklearn',\n",
       " 'mlflow.transformers',\n",
       " 'mlflow.xgboost',\n",
       " 'models',\n",
       " 'onnx',\n",
       " 'openai',\n",
       " 'paddle',\n",
       " 'pmdarima',\n",
       " 'projects',\n",
       " 'promptflow',\n",
       " 'promptlab',\n",
       " 'prophet',\n",
       " 'protos',\n",
       " 'pyfunc',\n",
       " 'pyspark',\n",
       " 'pytorch',\n",
       " 'recipes',\n",
       " 'register_model',\n",
       " 'rfunc',\n",
       " 'run',\n",
       " 'search_experiments',\n",
       " 'search_model_versions',\n",
       " 'search_registered_models',\n",
       " 'search_runs',\n",
       " 'search_traces',\n",
       " 'sentence_transformers',\n",
       " 'set_experiment',\n",
       " 'set_experiment_tag',\n",
       " 'set_experiment_tags',\n",
       " 'set_registry_uri',\n",
       " 'set_system_metrics_node_id',\n",
       " 'set_system_metrics_samples_before_logging',\n",
       " 'set_system_metrics_sampling_interval',\n",
       " 'set_tag',\n",
       " 'set_tags',\n",
       " 'set_tracking_uri',\n",
       " 'shap',\n",
       " 'sklearn',\n",
       " 'spacy',\n",
       " 'spark',\n",
       " 'start_run',\n",
       " 'start_span',\n",
       " 'statsmodels',\n",
       " 'store',\n",
       " 'system_metrics',\n",
       " 'tensorflow',\n",
       " 'trace',\n",
       " 'tracing',\n",
       " 'tracking',\n",
       " 'transformers',\n",
       " 'txtai',\n",
       " 'types',\n",
       " 'update_current_trace',\n",
       " 'update_expectation',\n",
       " 'update_feedback',\n",
       " 'utils',\n",
       " 'validate_evaluation_results',\n",
       " 'version',\n",
       " 'xgboost']"
      ]
     },
     "execution_count": 25,
     "metadata": {},
     "output_type": "execute_result"
    }
   ],
   "source": [
    "dir(mlflow)"
   ]
  },
  {
   "cell_type": "code",
   "execution_count": null,
   "id": "efe2930b-9046-45a0-9b4a-af412dff9b02",
   "metadata": {},
   "outputs": [],
   "source": []
  }
 ],
 "metadata": {
  "kernelspec": {
   "display_name": "Python 3 (ipykernel)",
   "language": "python",
   "name": "python3"
  },
  "language_info": {
   "codemirror_mode": {
    "name": "ipython",
    "version": 3
   },
   "file_extension": ".py",
   "mimetype": "text/x-python",
   "name": "python",
   "nbconvert_exporter": "python",
   "pygments_lexer": "ipython3",
   "version": "3.12.9"
  }
 },
 "nbformat": 4,
 "nbformat_minor": 5
}

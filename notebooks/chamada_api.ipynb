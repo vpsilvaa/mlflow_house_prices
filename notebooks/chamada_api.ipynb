{
 "cells": [
  {
   "cell_type": "code",
   "execution_count": 15,
   "id": "2ee96106-025a-4f12-a742-bdcc4313afbe",
   "metadata": {},
   "outputs": [],
   "source": [
    "import requests\n",
    "import json"
   ]
  },
  {
   "cell_type": "code",
   "execution_count": 58,
   "id": "cf038cb0-b1bd-4009-b5f2-ac761a38f995",
   "metadata": {},
   "outputs": [],
   "source": [
    "url = \"http://127.0.0.1:5005/invocations\""
   ]
  },
  {
   "cell_type": "code",
   "execution_count": 62,
   "id": "5ecfc480-13c7-4bc9-8808-951c8f427f6b",
   "metadata": {},
   "outputs": [],
   "source": [
    "data = {\n",
    "    \"dataframe_records\": [\n",
    "        {\"tamanho\": 159.0, \"ano\": 2003, \"garagem\": 4}\n",
    "    ]\n",
    "}\n",
    "\n",
    "headers ={\"Content-Type\": \"application/json\"}"
   ]
  },
  {
   "cell_type": "code",
   "execution_count": 63,
   "id": "347820e7-97bb-4941-b705-a278e0dc6adb",
   "metadata": {},
   "outputs": [],
   "source": [
    "response = requests.post(url, json=data, headers=headers)"
   ]
  },
  {
   "cell_type": "code",
   "execution_count": 64,
   "id": "37662aba-bff5-40c6-b987-e635b409cb09",
   "metadata": {},
   "outputs": [
    {
     "data": {
      "text/plain": [
       "'{\"predictions\": [241652.484375]}'"
      ]
     },
     "execution_count": 64,
     "metadata": {},
     "output_type": "execute_result"
    }
   ],
   "source": [
    "response.text"
   ]
  },
  {
   "cell_type": "code",
   "execution_count": null,
   "id": "8848d857-159f-40ca-b9c9-4b0adf26196a",
   "metadata": {},
   "outputs": [],
   "source": []
  }
 ],
 "metadata": {
  "kernelspec": {
   "display_name": "Python 3 (ipykernel)",
   "language": "python",
   "name": "python3"
  },
  "language_info": {
   "codemirror_mode": {
    "name": "ipython",
    "version": 3
   },
   "file_extension": ".py",
   "mimetype": "text/x-python",
   "name": "python",
   "nbconvert_exporter": "python",
   "pygments_lexer": "ipython3",
   "version": "3.12.9"
  }
 },
 "nbformat": 4,
 "nbformat_minor": 5
}
